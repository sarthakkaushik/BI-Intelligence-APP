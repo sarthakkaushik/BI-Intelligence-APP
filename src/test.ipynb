{
 "cells": [
  {
   "cell_type": "code",
   "execution_count": 55,
   "metadata": {},
   "outputs": [],
   "source": [
    "# !pip install -r \"./src/requirements.txt\""
   ]
  },
  {
   "cell_type": "code",
   "execution_count": 56,
   "metadata": {},
   "outputs": [
    {
     "data": {
      "text/plain": [
       "True"
      ]
     },
     "execution_count": 56,
     "metadata": {},
     "output_type": "execute_result"
    }
   ],
   "source": [
    "import os\n",
    "from dotenv import load_dotenv\n",
    "from langchain_openai import ChatOpenAI\n",
    "from langchain_core.messages import HumanMessage, SystemMessage\n",
    "from langchain_core.output_parsers import StrOutputParser\n",
    "import pandas as pd\n",
    "import tabulate\n",
    "\n",
    "\n",
    "load_dotenv()\n",
    "\n"
   ]
  },
  {
   "cell_type": "code",
   "execution_count": 3,
   "metadata": {},
   "outputs": [],
   "source": [
    "# os.getenv(\"OPENAI_API_KEY\")"
   ]
  },
  {
   "cell_type": "code",
   "execution_count": 16,
   "metadata": {},
   "outputs": [
    {
     "data": {
      "text/plain": [
       "AIMessage(content='Hello! How can I assist you today?', response_metadata={'token_usage': {'completion_tokens': 9, 'prompt_tokens': 424, 'total_tokens': 433}, 'model_name': 'gpt-4o-mini-2024-07-18', 'system_fingerprint': 'fp_661538dc1f', 'finish_reason': 'stop', 'logprobs': None}, id='run-b48e3942-e9ea-42a7-a31e-dac7ef7bc32d-0', usage_metadata={'input_tokens': 424, 'output_tokens': 9, 'total_tokens': 433})"
      ]
     },
     "execution_count": 16,
     "metadata": {},
     "output_type": "execute_result"
    }
   ],
   "source": []
  },
  {
   "cell_type": "code",
   "execution_count": 17,
   "metadata": {},
   "outputs": [
    {
     "data": {
      "text/plain": [
       "'Hello! How can I assist you today?'"
      ]
     },
     "execution_count": 17,
     "metadata": {},
     "output_type": "execute_result"
    }
   ],
   "source": [
    "parser = StrOutputParser()\n",
    "parser.invoke(model.invoke(messages))"
   ]
  },
  {
   "cell_type": "code",
   "execution_count": 73,
   "metadata": {},
   "outputs": [
    {
     "data": {
      "text/plain": [
       "AIMessage(content=\"To find the average premium across all policies, we can look at the 'Premium' column in the dataframe.\\n\\nThe average premium can be calculated as follows:\\n- Average Premium = Sum of all Premiums / Number of Policies\\n\\nLet me calculate that for you.\\n\\nThe average premium across all policies is $1,736.35.\", response_metadata={'token_usage': {'completion_tokens': 66, 'prompt_tokens': 798, 'total_tokens': 864}, 'model_name': 'gpt-4o-mini-2024-07-18', 'system_fingerprint': 'fp_661538dc1f', 'finish_reason': 'stop', 'logprobs': None}, id='run-cb343f3b-3ec3-482a-b354-9b2e93afae60-0', usage_metadata={'input_tokens': 798, 'output_tokens': 66, 'total_tokens': 864})"
      ]
     },
     "execution_count": 73,
     "metadata": {},
     "output_type": "execute_result"
    }
   ],
   "source": [
    "def load_dataframes(file_paths):\n",
    "  dataframes = {}\n",
    "  for file_path in file_paths:\n",
    "    df = pd.read_csv(file_path)\n",
    "    dataframes[file_name] = df\n",
    "\n",
    "  return dataframes\n",
    "\n",
    "path=[\"./src/data/insurance_data.csv\"]\n",
    "# path=[\"hi\", \"How\"]\n",
    "dataframes= load_dataframes(path)\n",
    "\n",
    "# Passing csv info as markdown \n",
    "schema_and_rows = []\n",
    "for name, df in dataframes.items():\n",
    "    schema = df.dtypes.to_dict()\n",
    "    top_3_rows = df.head(3).to_markdown(index=False)\n",
    "    schema_md = \"\\n\".join([f\"- **{col}**: {dtype}\" for col, dtype in schema.items()])\n",
    "    schema_and_rows.append(f\"### DataFrame Name: {name}\\n\\n**Schema:**\\n{schema_md}\\n\\n**Top 3 Rows:**\\n{top_3_rows}\\n\")\n",
    "\n",
    "schema_and_rows_str = \"\\n\".join(schema_and_rows)\n",
    "\n",
    "\n",
    "\n",
    "model= ChatOpenAI(model=\"gpt-4o-mini\")\n",
    "\n",
    "def genrate_system_prompt(schema_and_rows_str):\n",
    "    system_message=f\"\"\"\n",
    "    You are an intelligent assistant designed to help users analyze data using a provided dataframe. Your primary tasks are:\n",
    "    **Genral Answering**: If a user's question can be directly answered without using the dataframes information.\n",
    "    1. **Direct Answering**: If a user's question can be directly answered using the dataframe, identify the relevant columns and provide the answer.\n",
    "    2. **Query Rewriting**: If the question cannot be directly answered, rewrite the query to include the correct column names from the dataframe, ensuring that the query is clear and can be used to retrieve the necessary information.\n",
    "    \n",
    "    Here are the dataframes for your reference:\n",
    "    {schema_and_rows_str}\n",
    "\n",
    "    Examples:\n",
    "    1. **Direct Answering**:\n",
    "    - User Question: \"What is the average sales for the last quarter?\"\n",
    "    - DataFrame Schema: { 'Date', 'Sales', 'Product', 'Region' }\n",
    "    - Thought: \"From sales column in the dataframe I can find the average sales for the last quarter.\"\n",
    "\n",
    "    2. **Query Rewriting**:\n",
    "    - User Question: \"What is the performance of the product?\"\n",
    "    - DataFrame Schema: { 'Date', 'Sales', 'Product', 'Region' }\n",
    "    - Thought: \"To evaluate the performance of a product, I can analyze the 'Sales' column filtered by the 'Product' column. For example, 'What are the total sales for each product over the last year?\n",
    "\n",
    "      When responding to user queries, follow these steps:\n",
    "      1. **Understand the Question**: Parse the user's question to understand what information they are seeking.\n",
    "      2. **Identify Relevant Columns**: Determine which columns in the dataframes are relevant to the question.\n",
    "      3. **Provide Structured Response**: Based on the question type, provide a response in the following structure:\n",
    "        - response_type: 'general', 'direct', or 'rewriting'\n",
    "        - answer: The answer to the question or the rewritten query\n",
    "        - relevant_columns: List of column names used in the answer (if applicable)\n",
    "        - confidence: Your confidence in the answer (0-1)\n",
    "\n",
    "    Always ensure that your responses are clear, concise, and actionable.\"\"\"\n",
    "    \n",
    "    # system_message=f\"\"\"\n",
    "    # You are an intelligent assistant designed to help users analyze data using a provided dataframe. Your primary tasks are:\n",
    "    # **Genral Answering**: If a user's question can be directly answered without using the dataframe\n",
    "    # 1. **Direct Answering**: If a user's question can be directly answered using the dataframe, identify the relevant columns and provide the answer.\n",
    "    # 2. **Query Rewriting**: If the question cannot be directly answered, rewrite the query to include the correct column names from the dataframe, ensuring that the query is clear and can be used to retrieve the necessary information.\n",
    "    \n",
    "    # Here are the dataframes for your reference:\n",
    "    # {schema_and_rows_str}\n",
    "\n",
    "    # When responding to user queries, follow these steps:\n",
    "    # 1. **Understand the Question**: Parse the user's question to understand what information they are seeking.\n",
    "    # 2. **Identify Relevant Columns**: Determine which columns in the dataframe are relevant to the question.\n",
    "    # 3. **Direct Answering**: If possible, use the dataframe to directly answer the question.\n",
    "    # 4. **Query Rewriting**: If a direct answer is not possible, rewrite the user's query to include the correct column names and provide a clear, actionable query.\n",
    "\n",
    "    # Examples:\n",
    "    # 1. **Direct Answering**:\n",
    "    # - User Question: \"What is the average sales for the last quarter?\"\n",
    "    # - DataFrame Schema: { 'Date', 'Sales', 'Product', 'Region' }\n",
    "    # - Direct Answer: \"The average sales for the last quarter is $X.\"\n",
    "\n",
    "    # 2. **Query Rewriting**:\n",
    "    # - User Question: \"What is the performance of the product?\"\n",
    "    # - DataFrame Schema: { 'Date', 'Sales', 'Product', 'Region' }\n",
    "    # - Query Rewriting: \"To evaluate the performance of a product, you can analyze the 'Sales' column filtered by the 'Product' column. For example, 'What are the total sales for each product over the last year?\"\"\"\n",
    "    \n",
    "    return system_message\n",
    "\n",
    "system_message= SystemMessage(content=genrate_system_prompt(schema_and_rows_str))\n",
    "\n",
    "human_message= HumanMessage(content=\"What is the average premium across all policies?\")\n",
    "messages=[(system_message), (human_message)]\n",
    "\n",
    "model.invoke(messages)\n",
    "\n"
   ]
  },
  {
   "cell_type": "code",
   "execution_count": 76,
   "metadata": {},
   "outputs": [
    {
     "data": {
      "text/plain": [
       "QueryType(query_type='average premium across all policies')"
      ]
     },
     "execution_count": 76,
     "metadata": {},
     "output_type": "execute_result"
    }
   ],
   "source": [
    "# getting structured output\n",
    "\n",
    "from typing import Optional\n",
    "\n",
    "from langchain_core.pydantic_v1 import BaseModel, Field\n",
    "\n",
    "class QueryType(BaseModel):\n",
    "    \"\"\"Return the Querty type either of one result: [General, Direct, Rewriting]\"\"\"\n",
    "\n",
    "    query_type: str = Field(description=\"Return  either General, Direct or Rewriting\")\n",
    "\n",
    "structured_llm = model.with_structured_output(QueryType)\n",
    "\n",
    "structured_llm.invoke(\"What is the average premium across all policies?\")"
   ]
  }
 ],
 "metadata": {
  "language_info": {
   "name": "python"
  }
 },
 "nbformat": 4,
 "nbformat_minor": 2
}
